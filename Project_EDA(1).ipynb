{
  "cells": [
    {
      "cell_type": "markdown",
      "metadata": {
        "id": "sER7jYqvhCFZ"
      },
      "source": [
        "# Dataset Preprocessing"
      ]
    },
    {
      "cell_type": "code",
      "execution_count": null,
      "metadata": {
        "id": "5bLHwW3_xtAb"
      },
      "outputs": [],
      "source": [
        "from google.colab import drive\n",
        "drive.mount('/content/drive')"
      ]
    },
    {
      "cell_type": "code",
      "execution_count": null,
      "metadata": {
        "id": "1lVzDWQlY3RL"
      },
      "outputs": [],
      "source": [
        "!pip install category_encoders"
      ]
    },
    {
      "cell_type": "code",
      "execution_count": null,
      "metadata": {
        "id": "cpBGKLVWQBwV"
      },
      "outputs": [],
      "source": [
        "# Import the packages\n",
        "\n",
        "import pandas as pd\n",
        "import numpy as np\n",
        "import itertools\n",
        "\n",
        "import matplotlib.pyplot as plt\n",
        "plt.style.use('fivethirtyeight')\n",
        "import matplotlib.gridspec as gridspec\n",
        "import seaborn as sns\n",
        "sns.set(style='whitegrid', palette='muted', font_scale=1.5)\n",
        "from pylab import rcParams\n",
        "rcParams['figure.figsize'] = 12, 8\n",
        "import os\n",
        "\n",
        "# Any results you write to the current directory are saved as output."
      ]
    },
    {
      "cell_type": "code",
      "execution_count": null,
      "metadata": {
        "id": "zx8aReIox2Gi"
      },
      "outputs": [],
      "source": [
        "# load the dataset\n",
        "df = pd.read_csv('/content/drive/MyDrive/Colab Notebooks/Datasets/Project/train - train.csv.csv')\n",
        "df_test = pd.read_csv('/content/drive/MyDrive/Colab Notebooks/Datasets/Project/test - test.csv.csv')\n",
        "\n",
        "#Check number of rows and columns in the dataset\n",
        "print(\"The dataset has %d rows and %d columns.\" % df.shape)"
      ]
    },
    {
      "cell_type": "code",
      "execution_count": null,
      "metadata": {
        "id": "Xo_bzwYt-V6Q"
      },
      "outputs": [],
      "source": [
        "df.info()"
      ]
    },
    {
      "cell_type": "code",
      "execution_count": null,
      "metadata": {
        "id": "mgL2kdL1iI2u"
      },
      "outputs": [],
      "source": [
        "df.describe()"
      ]
    },
    {
      "cell_type": "code",
      "execution_count": null,
      "metadata": {
        "id": "Ws_lXQyCiqxr"
      },
      "outputs": [],
      "source": [
        "df.head(10)\n",
        "df_test.head(10)"
      ]
    },
    {
      "cell_type": "markdown",
      "metadata": {
        "id": "tAvYgoh-TGJV"
      },
      "source": [
        "**Finding Missing Values**"
      ]
    },
    {
      "cell_type": "code",
      "execution_count": null,
      "metadata": {
        "id": "f6Mf-fsdyx7C"
      },
      "outputs": [],
      "source": [
        "missing_values = df[pd.isnull(df).any(axis=1)]\n",
        "missing_values\n",
        "\n",
        "missing_values = df_test[pd.isnull(df_test).any(axis=1)]\n",
        "missing_values"
      ]
    },
    {
      "cell_type": "markdown",
      "metadata": {
        "id": "-OEe0uv5gxna"
      },
      "source": [
        "### Removing unnecessary columns"
      ]
    },
    {
      "cell_type": "code",
      "execution_count": null,
      "metadata": {
        "id": "gD7h6PmLQ3Yp"
      },
      "outputs": [],
      "source": [
        "df = df.drop([\"ID\", \"Customer_ID\", \"Month\", \"Name\", \"SSN\"], axis=1)\n",
        "df_test = df_test.drop([\"ID\", \"Customer_ID\", \"Month\", \"Name\", \"SSN\"], axis=1)"
      ]
    },
    {
      "cell_type": "code",
      "execution_count": null,
      "metadata": {
        "id": "r2MCYumcBNuz"
      },
      "outputs": [],
      "source": [
        "import pandas as pd\n",
        "\n",
        "# Assuming df is your DataFrame\n",
        "unique_values_per_column = {}\n",
        "\n",
        "for column in df.columns:\n",
        "    unique_values = df[column].unique()\n",
        "    unique_values_per_column[column] = unique_values\n",
        "\n",
        "# Display the unique values for each column\n",
        "for column, values in unique_values_per_column.items():\n",
        "    print(f\"Column: {column}\")\n",
        "    print(f\"Unique Values: {values}\")\n",
        "    print()"
      ]
    },
    {
      "cell_type": "code",
      "execution_count": null,
      "metadata": {
        "id": "n0zvoEysDIFt"
      },
      "outputs": [],
      "source": [
        "df = df[(df['Occupation'] != '_______')]\n",
        "df = df[(df['Credit_Mix'] != '_')]\n",
        "df = df[(df['Payment_of_Min_Amount'] != 'NM')]\n",
        "df = df[(df['Payment_Behaviour'] != '!@9#%8')]\n"
      ]
    },
    {
      "cell_type": "code",
      "execution_count": null,
      "metadata": {
        "id": "HUNIyiTWIQRt"
      },
      "outputs": [],
      "source": [
        "df_test = df_test[(df_test['Occupation'] != '_______')]\n",
        "df_test = df_test[(df_test['Credit_Mix'] != '_')]\n",
        "df_test = df_test[(df_test['Payment_of_Min_Amount'] != 'NM')]\n",
        "df_test = df_test[(df_test['Payment_Behaviour'] != '!@9#%8')]"
      ]
    },
    {
      "cell_type": "markdown",
      "metadata": {
        "id": "Z1UiRUFKg52f"
      },
      "source": [
        "### Category Encoding"
      ]
    },
    {
      "cell_type": "code",
      "execution_count": null,
      "metadata": {
        "id": "FSkyfYRZ5f9e"
      },
      "outputs": [],
      "source": [
        "# 1 = POOR, 2 = Standard and 3 = GOOD\n",
        "df[\"Credit_Score\"] = df[\"Credit_Score\"].apply(lambda x: 1 if x==\"Poor\" else (2 if x==\"Standard\" else 3))"
      ]
    },
    {
      "cell_type": "code",
      "execution_count": null,
      "metadata": {
        "id": "tSnHH730g8Lc"
      },
      "outputs": [],
      "source": [
        "import category_encoders as ce"
      ]
    },
    {
      "cell_type": "code",
      "execution_count": null,
      "metadata": {
        "id": "c9PJkM2sg-T5"
      },
      "outputs": [],
      "source": [
        "encoder = ce.OrdinalEncoder(cols=[\"Occupation\", \"Num_Bank_Accounts\", \"Num_Credit_Card\", \"Num_of_Loan\", \"Type_of_Loan\", \"Num_of_Delayed_Payment\", \"Num_Credit_Inquiries\", \"Credit_Mix\", \"Credit_History_Age\", \"Payment_of_Min_Amount\", \"Payment_Behaviour\"])\n",
        "\n",
        "df = encoder.fit_transform(df)"
      ]
    },
    {
      "cell_type": "code",
      "execution_count": null,
      "metadata": {
        "id": "COpiRUXL6HDK"
      },
      "outputs": [],
      "source": [
        "for mapping in encoder.category_mapping:\n",
        "    column_name = mapping['col']\n",
        "    original_categories = mapping['mapping']\n",
        "\n",
        "    # Create a dictionary to manually map original to encoded values\n",
        "    encoded_mapping = {category: i + 1 for i, category in enumerate(original_categories)}\n",
        "\n",
        "    print(f\"Column: {column_name}\")\n",
        "    print(f\"Original Categories: {original_categories}\")\n",
        "    print(f\"Encoded Mapping: {encoded_mapping}\")\n",
        "    print()"
      ]
    },
    {
      "cell_type": "code",
      "execution_count": null,
      "metadata": {
        "id": "LBbaPmCLXdLL"
      },
      "outputs": [],
      "source": [
        "df.describe()"
      ]
    },
    {
      "cell_type": "code",
      "execution_count": null,
      "metadata": {
        "id": "91UqUt5-gMtu"
      },
      "outputs": [],
      "source": [
        "encoder = ce.OrdinalEncoder(cols=[\"Occupation\",\"Num_Bank_Accounts\", \"Num_Credit_Card\", \"Num_of_Loan\", \"Type_of_Loan\", \"Num_of_Delayed_Payment\", \"Num_Credit_Inquiries\", \"Credit_Mix\", \"Credit_History_Age\", \"Payment_of_Min_Amount\", \"Payment_Behaviour\"])\n",
        "\n",
        "df_test = encoder.fit_transform(df_test)"
      ]
    },
    {
      "cell_type": "code",
      "execution_count": null,
      "metadata": {
        "id": "s-4CwCEMglRM"
      },
      "outputs": [],
      "source": [
        "df_test.info()"
      ]
    },
    {
      "cell_type": "code",
      "execution_count": null,
      "metadata": {
        "id": "YLtvGIDw3KVG"
      },
      "outputs": [],
      "source": [
        "# check missing values in variables\n",
        "\n",
        "df.isnull().sum()\n",
        "print()\n",
        "df_test.isnull().sum()"
      ]
    },
    {
      "cell_type": "code",
      "execution_count": null,
      "metadata": {
        "id": "7uj0zAJoyf4r"
      },
      "outputs": [],
      "source": [
        "df.replace('_', np.nan, inplace=True)\n",
        "df_test.replace('_', np.nan, inplace=True)\n",
        "df = df.apply(pd.to_numeric, errors='coerce')\n",
        "df_test = df_test.apply(pd.to_numeric, errors='coerce')\n",
        "\n",
        "df = df.fillna(df.mean())\n",
        "df_test = df_test.fillna(df_test.mean())"
      ]
    },
    {
      "cell_type": "code",
      "execution_count": null,
      "metadata": {
        "id": "vS7lgbiOJus1"
      },
      "outputs": [],
      "source": [
        "df.shape"
      ]
    },
    {
      "cell_type": "markdown",
      "metadata": {
        "id": "eJ_fxXfdyXAR"
      },
      "source": [
        "# Exploratory Data Analysis"
      ]
    },
    {
      "cell_type": "markdown",
      "metadata": {
        "id": "l0fxeCWszKnl"
      },
      "source": [
        "## Corelation between variables"
      ]
    },
    {
      "cell_type": "code",
      "execution_count": null,
      "metadata": {
        "id": "4RsklEDYwVp5"
      },
      "outputs": [],
      "source": [
        "import numpy as np\n",
        "import seaborn as sns\n",
        "import matplotlib.pyplot as plt\n",
        "\n",
        "f, ax = plt.subplots(figsize=(14, 10))\n",
        "\n",
        "corr = df.corr()\n",
        "\n",
        "ax = sns.heatmap(corr, cmap = \"RdBu_r\")\n",
        "\n",
        "ax.invert_yaxis()\n",
        "\n",
        "\n",
        "plt.title(\"Heatmap of pairwise correlation of the columns\")\n",
        "\n",
        "plt.show()"
      ]
    },
    {
      "cell_type": "markdown",
      "metadata": {
        "id": "XylSM0NKyuyM"
      },
      "source": [
        "**Remarks:** There's no strong Co-Relation between the variables.\n",
        "\n",
        "Negatively co-related features:\n",
        "1. Delay_from_due_date\n",
        "2. Credit_Mix\n",
        "3. Outstanding_Debt\n",
        "4. Payment_of_Min_Amount"
      ]
    },
    {
      "cell_type": "markdown",
      "metadata": {
        "id": "VcblaBPTz5Bo"
      },
      "source": [
        "## Exploring Categorical Variables"
      ]
    },
    {
      "cell_type": "code",
      "execution_count": null,
      "metadata": {
        "id": "FZ4Bg9FkMLrD"
      },
      "outputs": [],
      "source": [
        "def configure_plotly_browser_state():\n",
        "  import IPython\n",
        "  display(IPython.core.display.HTML('''\n",
        "        <script src=\"/static/components/requirejs/require.js\"></script>\n",
        "        <script>\n",
        "          requirejs.config({\n",
        "            paths: {\n",
        "              base: '/static/base',\n",
        "              plotly: 'https://cdn.plot.ly/plotly-1.5.1.min.js?noext',\n",
        "            },\n",
        "          });\n",
        "        </script>\n",
        "        '''))"
      ]
    },
    {
      "cell_type": "markdown",
      "metadata": {
        "id": "PZhZ6zjhz_dl"
      },
      "source": [
        "**Variable: Credit_Mix**"
      ]
    },
    {
      "cell_type": "code",
      "execution_count": null,
      "metadata": {
        "id": "MWt-1lMzKZdV"
      },
      "outputs": [],
      "source": [
        "#plot libaries\n",
        "import plotly\n",
        "import plotly.graph_objs as go\n",
        "import plotly.figure_factory as ff\n",
        "from plotly.offline import init_notebook_mode\n",
        "\n",
        "configure_plotly_browser_state()\n",
        "\n",
        "init_notebook_mode(connected=False)# to show plots in notebook\n",
        "\n",
        "from plotly.offline import plot, iplot\n",
        "\n",
        "# do not show any warnings\n",
        "import warnings\n",
        "warnings.filterwarnings('ignore')\n",
        "\n",
        "# SEED = 17 # specify seed for reproducable results\n",
        "pd.set_option('display.max_columns', None) # prevents abbreviation (with '...') of columns in prints\n",
        "\n",
        "colors = plotly.colors.DEFAULT_PLOTLY_COLORS\n",
        "score_dict = {1: \"poor_score\", 2: \"standard_score\", 3:\"Good_Score\"}\n",
        "\n",
        "poor_score = df[df[\"Credit_Score\"] == 1]\n",
        "standard_score = df[df[\"Credit_Score\"] == 2]\n",
        "good_score = df[df[\"Credit_Score\"] == 3]\n",
        "\n",
        "def create_poor_score_trace(col, visible=False):\n",
        "    return go.Histogram(\n",
        "        x=poor_score[col],\n",
        "        name='poor_score',\n",
        "        marker = dict(color = colors[1]),\n",
        "        visible=visible,\n",
        "    )\n",
        "\n",
        "def create_standard_score_trace(col, visible=False):\n",
        "    return go.Histogram(\n",
        "        x=standard_score[col],\n",
        "        name='standard_score',\n",
        "        marker = dict(color = colors[0]),\n",
        "        visible = visible,\n",
        "    )\n",
        "\n",
        "def create_good_score_trace(col, visible=False):\n",
        "    return go.Histogram(\n",
        "        x=good_score[col],\n",
        "        name='good_score',\n",
        "        marker = dict(color = colors[2]),\n",
        "        visible = visible,\n",
        "    )\n",
        "\n",
        "features_for_hist = ['Occupation']\n",
        "active_idx = 0\n",
        "traces_poor_score = [(create_poor_score_trace(col) if i != active_idx else create_poor_score_trace(col, visible=True)) for i, col in enumerate(features_for_hist)]\n",
        "traces_standard_score = [(create_standard_score_trace(col) if i != active_idx else create_standard_score_trace(col, visible=True)) for i, col in enumerate(features_for_hist)]\n",
        "traces_good_score = [(create_good_score_trace(col) if i != active_idx else create_good_score_trace(col, visible=True)) for i, col in enumerate(features_for_hist)]\n",
        "\n",
        "data = traces_poor_score + traces_standard_score + traces_good_score\n",
        "\n",
        "\n",
        "\n",
        "layout = dict(\n",
        "    yaxis=dict(\n",
        "        title='#samples',\n",
        "        automargin=True,\n",
        "    ),\n",
        "    xaxis=dict(\n",
        "        title='Feature: Occupation',\n",
        "        automargin=True,\n",
        "    ),\n",
        ")\n",
        "\n",
        "fig = dict(data=data, layout=layout)\n",
        "\n",
        "iplot(fig, filename='histogram')\n"
      ]
    },
    {
      "cell_type": "markdown",
      "metadata": {
        "id": "E_8JMDom-e6r"
      },
      "source": [
        "**Category Mapping (Occupation):**\n",
        "\n",
        "Scientist: 1\n",
        "\n",
        "\n",
        "Teacher  :          2\n",
        "\n",
        "Engineer    :       3\n",
        "\n",
        "Entrepreneur :       4\n",
        "\n",
        "Developer  :       5\n",
        "\n",
        "Lawyer       :     6\n",
        "\n",
        "Media_Manager  :    7\n",
        "\n",
        "Doctor    :        8\n",
        "\n",
        "Journalist  :      9\n",
        "\n",
        "Manager  :         10\n",
        "\n",
        "Accountant :      11\n",
        "\n",
        "Musician  :       12\n",
        "\n",
        "Mechanic  :       13\n",
        "\n",
        "Writer   :        14\n",
        "\n",
        "Architect :        15"
      ]
    },
    {
      "cell_type": "markdown",
      "metadata": {
        "id": "ehMelFAm_a1v"
      },
      "source": [
        "**Variable: Payment_of_Min_Amount**"
      ]
    },
    {
      "cell_type": "code",
      "execution_count": null,
      "metadata": {
        "id": "SXZGfJs2_2Fh"
      },
      "outputs": [],
      "source": [
        "#plot libaries\n",
        "import plotly\n",
        "import plotly.graph_objs as go\n",
        "import plotly.figure_factory as ff\n",
        "from plotly.offline import init_notebook_mode\n",
        "\n",
        "configure_plotly_browser_state()\n",
        "\n",
        "init_notebook_mode(connected=False)# to show plots in notebook\n",
        "\n",
        "from plotly.offline import plot, iplot\n",
        "\n",
        "# do not show any warnings\n",
        "import warnings\n",
        "warnings.filterwarnings('ignore')\n",
        "\n",
        "# SEED = 17 # specify seed for reproducable results\n",
        "pd.set_option('display.max_columns', None) # prevents abbreviation (with '...') of columns in prints\n",
        "\n",
        "colors = plotly.colors.DEFAULT_PLOTLY_COLORS\n",
        "score_dict = {1: \"poor_score\", 2: \"standard_score\", 3:\"Good_Score\"}\n",
        "\n",
        "poor_score = df[df[\"Credit_Score\"] == 1]\n",
        "standard_score = df[df[\"Credit_Score\"] == 2]\n",
        "good_score = df[df[\"Credit_Score\"] == 3]\n",
        "\n",
        "def create_poor_score_trace(col, visible=False):\n",
        "    return go.Histogram(\n",
        "        x=poor_score[col],\n",
        "        name='poor_score',\n",
        "        marker = dict(color = colors[1]),\n",
        "        visible=visible,\n",
        "    )\n",
        "\n",
        "def create_standard_score_trace(col, visible=False):\n",
        "    return go.Histogram(\n",
        "        x=standard_score[col],\n",
        "        name='standard_score',\n",
        "        marker = dict(color = colors[0]),\n",
        "        visible = visible,\n",
        "    )\n",
        "\n",
        "def create_good_score_trace(col, visible=False):\n",
        "    return go.Histogram(\n",
        "        x=good_score[col],\n",
        "        name='good_score',\n",
        "        marker = dict(color = colors[2]),\n",
        "        visible = visible,\n",
        "    )\n",
        "\n",
        "features_for_hist = ['Payment_of_Min_Amount']\n",
        "active_idx = 0\n",
        "traces_poor_score = [(create_poor_score_trace(col) if i != active_idx else create_poor_score_trace(col, visible=True)) for i, col in enumerate(features_for_hist)]\n",
        "traces_standard_score = [(create_standard_score_trace(col) if i != active_idx else create_standard_score_trace(col, visible=True)) for i, col in enumerate(features_for_hist)]\n",
        "traces_good_score = [(create_good_score_trace(col) if i != active_idx else create_good_score_trace(col, visible=True)) for i, col in enumerate(features_for_hist)]\n",
        "\n",
        "data = traces_poor_score + traces_standard_score + traces_good_score\n",
        "\n",
        "\n",
        "\n",
        "layout = dict(\n",
        "    yaxis=dict(\n",
        "        title='#samples',\n",
        "        automargin=True,\n",
        "    ),\n",
        "    xaxis=dict(\n",
        "        title='Feature: Payment_of_Min_Amount(1=No, 2=Yes))',\n",
        "        automargin=True,\n",
        "    ),\n",
        ")\n",
        "\n",
        "fig = dict(data=data, layout=layout)\n",
        "\n",
        "iplot(fig, filename='histogram')\n"
      ]
    },
    {
      "cell_type": "code",
      "execution_count": null,
      "metadata": {
        "id": "cMHpg82OGTdg"
      },
      "outputs": [],
      "source": [
        "#plot libaries\n",
        "import plotly\n",
        "import plotly.graph_objs as go\n",
        "import plotly.figure_factory as ff\n",
        "from plotly.offline import init_notebook_mode\n",
        "\n",
        "configure_plotly_browser_state()\n",
        "\n",
        "init_notebook_mode(connected=False)# to show plots in notebook\n",
        "\n",
        "from plotly.offline import plot, iplot\n",
        "\n",
        "# do not show any warnings\n",
        "import warnings\n",
        "warnings.filterwarnings('ignore')\n",
        "\n",
        "# SEED = 17 # specify seed for reproducable results\n",
        "pd.set_option('display.max_columns', None) # prevents abbreviation (with '...') of columns in prints\n",
        "\n",
        "colors = plotly.colors.DEFAULT_PLOTLY_COLORS\n",
        "score_dict = {1: \"poor_score\", 2: \"standard_score\", 3:\"Good_Score\"}\n",
        "\n",
        "poor_score = df[df[\"Credit_Score\"] == 1]\n",
        "standard_score = df[df[\"Credit_Score\"] == 2]\n",
        "good_score = df[df[\"Credit_Score\"] == 3]\n",
        "\n",
        "def create_poor_score_trace(col, visible=False):\n",
        "    return go.Histogram(\n",
        "        x=poor_score[col],\n",
        "        name='poor_score',\n",
        "        marker = dict(color = colors[1]),\n",
        "        visible=visible,\n",
        "    )\n",
        "\n",
        "def create_standard_score_trace(col, visible=False):\n",
        "    return go.Histogram(\n",
        "        x=standard_score[col],\n",
        "        name='standard_score',\n",
        "        marker = dict(color = colors[0]),\n",
        "        visible = visible,\n",
        "    )\n",
        "\n",
        "def create_good_score_trace(col, visible=False):\n",
        "    return go.Histogram(\n",
        "        x=good_score[col],\n",
        "        name='good_score',\n",
        "        marker = dict(color = colors[2]),\n",
        "        visible = visible,\n",
        "    )\n",
        "\n",
        "features_for_hist = ['Payment_Behaviour']\n",
        "active_idx = 0\n",
        "traces_poor_score = [(create_poor_score_trace(col) if i != active_idx else create_poor_score_trace(col, visible=True)) for i, col in enumerate(features_for_hist)]\n",
        "traces_standard_score = [(create_standard_score_trace(col) if i != active_idx else create_standard_score_trace(col, visible=True)) for i, col in enumerate(features_for_hist)]\n",
        "traces_good_score = [(create_good_score_trace(col) if i != active_idx else create_good_score_trace(col, visible=True)) for i, col in enumerate(features_for_hist)]\n",
        "\n",
        "data = traces_poor_score + traces_standard_score + traces_good_score\n",
        "\n",
        "\n",
        "\n",
        "layout = dict(\n",
        "    yaxis=dict(\n",
        "        title='#samples',\n",
        "        automargin=True,\n",
        "    ),\n",
        "    xaxis=dict(\n",
        "        title='Feature: Payment_Behaviour ',\n",
        "        automargin=True,\n",
        "    ),\n",
        ")\n",
        "\n",
        "fig = dict(data=data, layout=layout)\n",
        "\n",
        "iplot(fig, filename='histogram')\n"
      ]
    },
    {
      "cell_type": "markdown",
      "metadata": {
        "id": "AoX22dY9GmTn"
      },
      "source": [
        "**Original Categories (Payment_Behaviour):**\n",
        "\n",
        "Good: 1\n",
        "\n",
        "Standard: 2\n",
        "\n",
        "Bad: 3"
      ]
    },
    {
      "cell_type": "markdown",
      "metadata": {
        "id": "qr4FzZvCPlDE"
      },
      "source": [
        "## Distribution Box-Plots"
      ]
    },
    {
      "cell_type": "code",
      "execution_count": null,
      "metadata": {
        "id": "oLDHhk9RU7BA"
      },
      "outputs": [],
      "source": [
        "configure_plotly_browser_state()\n",
        "\n",
        "init_notebook_mode(connected=False)# to show plots in notebook\n",
        "\n",
        "import plotly.graph_objs as go\n",
        "from plotly.subplots import make_subplots\n",
        "from plotly.offline import iplot, init_notebook_mode\n",
        "\n",
        "# Assuming you have three DataFrames: poor_score, standard_score, good_score\n",
        "\n",
        "# ... (Your previous code)\n",
        "\n",
        "def create_poor_score_trace(col, visible=False):\n",
        "    return go.Box(\n",
        "        y=poor_score[col],\n",
        "        name='poor_score',\n",
        "        boxpoints='all',\n",
        "        jitter=0.3,\n",
        "        pointpos=-1.8,\n",
        "        marker=dict(color=colors[1]),\n",
        "        visible=visible,\n",
        "    )\n",
        "\n",
        "def create_standard_score_trace(col, visible=False):\n",
        "    return go.Box(\n",
        "        y=standard_score[col],\n",
        "        name='standard_score',\n",
        "        boxpoints='all',\n",
        "        jitter=0.3,\n",
        "        pointpos=-1.8,\n",
        "        marker=dict(color=colors[0]),\n",
        "        visible=visible,\n",
        "    )\n",
        "\n",
        "def create_good_score_trace(col, visible=False):\n",
        "    return go.Box(\n",
        "        y=good_score[col],\n",
        "        name='good_score',\n",
        "        boxpoints='all',\n",
        "        jitter=0.3,\n",
        "        pointpos=-1.8,\n",
        "        marker=dict(color=colors[2]),\n",
        "        visible=visible,\n",
        "    )\n",
        "\n",
        "\n",
        "\n",
        "features_not_for_hist = [\"Credit_Score\"]\n",
        "features_for_hist = [x for x in df.columns if x not in features_not_for_hist]\n",
        "# remove features with too less distinct values (e.g. binary features), because boxplot does not make any sense for them\n",
        "features_for_box = [col for col in features_for_hist if len(standard_score[col].unique())>5]\n",
        "\n",
        "active_idx = 0\n",
        "traces_poor_score = [(create_poor_score_trace(col) if i != active_idx else create_poor_score_trace(col, visible=True)) for i, col in enumerate(features_for_hist)]\n",
        "traces_standard_score = [(create_standard_score_trace(col) if i != active_idx else create_standard_score_trace(col, visible=True)) for i, col in enumerate(features_for_hist)]\n",
        "traces_good_score = [(create_good_score_trace(col) if i != active_idx else create_good_score_trace(col, visible=True)) for i, col in enumerate(features_for_hist)]\n",
        "data = traces_poor_score + traces_standard_score + traces_good_score\n",
        "\n",
        "n_features = len(features_for_box)\n",
        "steps = []\n",
        "for i in range(n_features):\n",
        "    step = dict(\n",
        "        method = 'restyle',\n",
        "        args = ['visible', [False] * len(data)],\n",
        "        label = features_for_box[i],\n",
        "    )\n",
        "    step['args'][1][i] = True # Toggle i'th trace to \"visible\"\n",
        "    step['args'][1][i + n_features] = True # Toggle i'th trace to \"visible\"\n",
        "    steps.append(step)\n",
        "\n",
        "sliders = [dict(\n",
        "    active = active_idx,\n",
        "    currentvalue = dict(\n",
        "        prefix = \"Feature: \",\n",
        "        xanchor= 'center',\n",
        "    ),\n",
        "    pad = {\"t\": 50},\n",
        "    steps = steps,\n",
        "    len=1,\n",
        ")]\n",
        "\n",
        "layout = dict(\n",
        "    sliders=sliders,\n",
        "    yaxis=dict(\n",
        "        title='value',\n",
        "        automargin=True,\n",
        "    ),\n",
        "    legend=dict(\n",
        "        x=0,\n",
        "        y=1,\n",
        "    ),\n",
        ")\n",
        "\n",
        "fig = dict(data=data, layout=layout)\n",
        "\n",
        "iplot(fig, filename='box_slider')"
      ]
    },
    {
      "cell_type": "markdown",
      "metadata": {
        "id": "5sQXpELQHfXv"
      },
      "source": [
        "**Remarks:**\n",
        "1. As we can our dataset has a huge number of outliers. So we have to remove those outliers.\n",
        "\n",
        "The result shows all the credit score at first then when changing the slider it dissappears.![newplot(5).png](data:image/png;base64,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)"
      ]
    },
    {
      "cell_type": "markdown",
      "metadata": {
        "id": "3BS7Z6zqIn9E"
      },
      "source": [
        "### Removing Outliers"
      ]
    },
    {
      "cell_type": "code",
      "execution_count": null,
      "metadata": {
        "id": "e2yj4Ds9Ivlj"
      },
      "outputs": [],
      "source": [
        "import pandas as pd\n",
        "\n",
        "# Assuming df is your DataFrame\n",
        "# Specify the factor for IQR (e.g., 1.5)\n",
        "iqr_factor = 1.5\n",
        "\n",
        "# Compute the first quartile (Q1) and third quartile (Q3)\n",
        "Q1 = df.quantile(0.25)\n",
        "Q3 = df.quantile(0.75)\n",
        "\n",
        "# Calculate the IQR for each column\n",
        "IQR = Q3 - Q1\n",
        "\n",
        "# Create a boolean mask for outliers\n",
        "outliers_mask = (df < (Q1 - iqr_factor * IQR)) | (df > (Q3 + iqr_factor * IQR))\n",
        "\n",
        "# Replace outliers with median values column-wise\n",
        "df = df.where(~outliers_mask, df.median(axis=0), axis=1)\n",
        "\n",
        "# Display the resulting DataFrame with outliers replaced by median values\n",
        "print(df)"
      ]
    },
    {
      "cell_type": "markdown",
      "metadata": {
        "id": "qUrfcuqoLfWO"
      },
      "source": [
        "## Exploring Numerical Variables"
      ]
    },
    {
      "cell_type": "markdown",
      "metadata": {
        "id": "msMK5dl2M1un"
      },
      "source": [
        "### **Annual Income**"
      ]
    },
    {
      "cell_type": "code",
      "execution_count": null,
      "metadata": {
        "id": "hp6nQtcME5k9"
      },
      "outputs": [],
      "source": [
        "configure_plotly_browser_state()\n",
        "\n",
        "init_notebook_mode(connected=False)# to show plots in notebook\n",
        "\n",
        "def create_poor_score_trace(col, visible=False):\n",
        "    return go.Histogram(\n",
        "        x=poor_score[col],\n",
        "        name='poor_score',\n",
        "        marker = dict(color = colors[1]),\n",
        "        visible=visible,\n",
        "    )\n",
        "\n",
        "def create_standard_score_trace(col, visible=False):\n",
        "    return go.Histogram(\n",
        "        x=standard_score[col],\n",
        "        name='standard_score',\n",
        "        marker = dict(color = colors[0]),\n",
        "        visible = visible,\n",
        "    )\n",
        "\n",
        "def create_good_score_trace(col, visible=False):\n",
        "    return go.Histogram(\n",
        "        x=good_score[col],\n",
        "        name='good_score',\n",
        "        marker = dict(color = colors[2]),\n",
        "        visible = visible,\n",
        "    )\n",
        "\n",
        "features_for_hist = ['Annual_Income']\n",
        "active_idx = 0\n",
        "traces_poor_score = [(create_poor_score_trace(col) if i != active_idx else create_poor_score_trace(col, visible=True)) for i, col in enumerate(features_for_hist)]\n",
        "traces_standard_score = [(create_standard_score_trace(col) if i != active_idx else create_standard_score_trace(col, visible=True)) for i, col in enumerate(features_for_hist)]\n",
        "traces_good_score = [(create_good_score_trace(col) if i != active_idx else create_good_score_trace(col, visible=True)) for i, col in enumerate(features_for_hist)]\n",
        "\n",
        "data = traces_poor_score + traces_standard_score + traces_good_score\n",
        "\n",
        "n_features = len(features_for_hist)\n",
        "steps = []\n",
        "for i in range(n_features):\n",
        "    step = dict(\n",
        "        method = 'restyle',\n",
        "        args = ['visible', [False] * len(data)],\n",
        "        label = features_for_hist[i],\n",
        "    )\n",
        "    step['args'][1][i] = True # Toggle i'th trace to \"visible\"\n",
        "    step['args'][1][i + n_features] = True # Toggle i'th trace to \"visible\"\n",
        "    steps.append(step)\n",
        "\n",
        "\n",
        "layout = dict(\n",
        "    yaxis=dict(\n",
        "        title='#samples',\n",
        "        automargin=True,\n",
        "    ),\n",
        "    xaxis=dict(\n",
        "        title='Feature: Annual_Income',\n",
        "        automargin=True,\n",
        "    ),\n",
        ")\n",
        "\n",
        "fig = dict(data=data, layout=layout)\n",
        "\n",
        "iplot(fig, filename='histogram')\n"
      ]
    },
    {
      "cell_type": "markdown",
      "metadata": {
        "id": "chBltD8kNtGU"
      },
      "source": [
        "**Remarks:** After 200k annual income all type of credit score decreases significantly"
      ]
    },
    {
      "cell_type": "markdown",
      "metadata": {
        "id": "Dj-gHNKoM-Pa"
      },
      "source": [
        "### **Credit_Utilization_Ratio**"
      ]
    },
    {
      "cell_type": "code",
      "execution_count": null,
      "metadata": {
        "id": "Zc7hYMlzNUWo"
      },
      "outputs": [],
      "source": [
        "\n",
        "configure_plotly_browser_state()\n",
        "\n",
        "init_notebook_mode(connected=False)# to show plots in notebook\n",
        "\n",
        "def create_poor_score_trace(col, visible=False):\n",
        "    return go.Histogram(\n",
        "        x=poor_score[col],\n",
        "        name='poor_score',\n",
        "        marker = dict(color = colors[1]),\n",
        "        visible=visible,\n",
        "    )\n",
        "\n",
        "def create_standard_score_trace(col, visible=False):\n",
        "    return go.Histogram(\n",
        "        x=standard_score[col],\n",
        "        name='standard_score',\n",
        "        marker = dict(color = colors[0]),\n",
        "        visible = visible,\n",
        "    )\n",
        "\n",
        "def create_good_score_trace(col, visible=False):\n",
        "    return go.Histogram(\n",
        "        x=good_score[col],\n",
        "        name='good_score',\n",
        "        marker = dict(color = colors[2]),\n",
        "        visible = visible,\n",
        "    )\n",
        "\n",
        "features_for_hist = ['Credit_Utilization_Ratio']\n",
        "active_idx = 0\n",
        "traces_poor_score = [(create_poor_score_trace(col) if i != active_idx else create_poor_score_trace(col, visible=True)) for i, col in enumerate(features_for_hist)]\n",
        "traces_standard_score = [(create_standard_score_trace(col) if i != active_idx else create_standard_score_trace(col, visible=True)) for i, col in enumerate(features_for_hist)]\n",
        "traces_good_score = [(create_good_score_trace(col) if i != active_idx else create_good_score_trace(col, visible=True)) for i, col in enumerate(features_for_hist)]\n",
        "\n",
        "data = traces_poor_score + traces_standard_score + traces_good_score\n",
        "\n",
        "n_features = len(features_for_hist)\n",
        "steps = []\n",
        "for i in range(n_features):\n",
        "    step = dict(\n",
        "        method = 'restyle',\n",
        "        args = ['visible', [False] * len(data)],\n",
        "        label = features_for_hist[i],\n",
        "    )\n",
        "    step['args'][1][i] = True # Toggle i'th trace to \"visible\"\n",
        "    step['args'][1][i + n_features] = True # Toggle i'th trace to \"visible\"\n",
        "    steps.append(step)\n",
        "\n",
        "\n",
        "layout = dict(\n",
        "    yaxis=dict(\n",
        "        title='#samples',\n",
        "        automargin=True,\n",
        "    ),\n",
        "    xaxis=dict(\n",
        "        title='Feature: Credit_Utilization_Ratio',\n",
        "        automargin=True,\n",
        "    ),\n",
        ")\n",
        "\n",
        "fig = dict(data=data, layout=layout)\n",
        "\n",
        "iplot(fig, filename='histogram')\n"
      ]
    },
    {
      "cell_type": "markdown",
      "metadata": {
        "id": "SUgQYvxgPMuI"
      },
      "source": [
        "### **Total_EMI_per_month**"
      ]
    },
    {
      "cell_type": "code",
      "execution_count": null,
      "metadata": {
        "id": "SAu5F-rvPRjF"
      },
      "outputs": [],
      "source": [
        "\n",
        "configure_plotly_browser_state()\n",
        "\n",
        "init_notebook_mode(connected=False)# to show plots in notebook\n",
        "\n",
        "def create_poor_score_trace(col, visible=False):\n",
        "    return go.Histogram(\n",
        "        x=poor_score[col],\n",
        "        name='poor_score',\n",
        "        marker = dict(color = colors[1]),\n",
        "        visible=visible,\n",
        "    )\n",
        "\n",
        "def create_standard_score_trace(col, visible=False):\n",
        "    return go.Histogram(\n",
        "        x=standard_score[col],\n",
        "        name='standard_score',\n",
        "        marker = dict(color = colors[0]),\n",
        "        visible = visible,\n",
        "    )\n",
        "\n",
        "def create_good_score_trace(col, visible=False):\n",
        "    return go.Histogram(\n",
        "        x=good_score[col],\n",
        "        name='good_score',\n",
        "        marker = dict(color = colors[2]),\n",
        "        visible = visible,\n",
        "    )\n",
        "\n",
        "features_for_hist = ['Total_EMI_per_month']\n",
        "active_idx = 0\n",
        "traces_poor_score = [(create_poor_score_trace(col) if i != active_idx else create_poor_score_trace(col, visible=True)) for i, col in enumerate(features_for_hist)]\n",
        "traces_standard_score = [(create_standard_score_trace(col) if i != active_idx else create_standard_score_trace(col, visible=True)) for i, col in enumerate(features_for_hist)]\n",
        "traces_good_score = [(create_good_score_trace(col) if i != active_idx else create_good_score_trace(col, visible=True)) for i, col in enumerate(features_for_hist)]\n",
        "\n",
        "data = traces_poor_score + traces_standard_score + traces_good_score\n",
        "\n",
        "n_features = len(features_for_hist)\n",
        "steps = []\n",
        "for i in range(n_features):\n",
        "    step = dict(\n",
        "        method = 'restyle',\n",
        "        args = ['visible', [False] * len(data)],\n",
        "        label = features_for_hist[i],\n",
        "    )\n",
        "    step['args'][1][i] = True # Toggle i'th trace to \"visible\"\n",
        "    step['args'][1][i + n_features] = True # Toggle i'th trace to \"visible\"\n",
        "    steps.append(step)\n",
        "\n",
        "\n",
        "layout = dict(\n",
        "    yaxis=dict(\n",
        "        title='#samples',\n",
        "        automargin=True,\n",
        "    ),\n",
        "    xaxis=dict(\n",
        "        title='Feature: Total_EMI_per_month',\n",
        "        automargin=True,\n",
        "    ),\n",
        ")\n",
        "\n",
        "fig = dict(data=data, layout=layout)\n",
        "\n",
        "iplot(fig, filename='histogram')\n"
      ]
    },
    {
      "cell_type": "markdown",
      "metadata": {
        "id": "45r7TP81bTmS"
      },
      "source": [
        "## **EXPLORING MULTIVARIATE RELATIONSHIPS - Scatter-plots**"
      ]
    },
    {
      "cell_type": "markdown",
      "metadata": {
        "id": "W0sMKF43vPDp"
      },
      "source": [
        "### **2-D Scatterplots**"
      ]
    },
    {
      "cell_type": "code",
      "execution_count": null,
      "metadata": {
        "id": "3-uhrIbEbTCA"
      },
      "outputs": [],
      "source": [
        "import matplotlib.pyplot as plt\n",
        "import matplotlib\n",
        "\n",
        "label = [0, 1]\n",
        "colors = ['blue', 'orange', 'red']\n",
        "\n",
        "scatter = plt.scatter(df['Annual_Income'], df['Total_EMI_per_month'], c=df['Credit_Score'], cmap=matplotlib.colors.ListedColormap(colors))\n",
        "plt.xlabel('Annual_Income')\n",
        "plt.ylabel('Total_EMI_per_month')\n",
        "plt.title('Scatter plot of Annual_Income against Total_EMI_per_month')\n",
        "\n",
        "# Create a legend for each unique value in 'Credit_Score'\n",
        "legend_labels = df['Credit_Score'].unique()\n",
        "legend_handles = [plt.Line2D([0], [0], marker='o', color='w', markerfacecolor=colors[i % len(colors)], markersize=10, label=str(legend_label)) for i, legend_label in enumerate(legend_labels)]\n",
        "plt.legend(handles=legend_handles, title='Credit_Score')\n",
        "\n",
        "plt.show()"
      ]
    },
    {
      "cell_type": "code",
      "execution_count": null,
      "metadata": {
        "id": "SQ2SDE-s1crn"
      },
      "outputs": [],
      "source": [
        "import matplotlib.pyplot as plt\n",
        "import matplotlib\n",
        "\n",
        "label = [0, 1]\n",
        "colors = ['blue', 'orange', 'red']\n",
        "\n",
        "scatter = plt.scatter(df['Annual_Income'], df['Credit_Utilization_Ratio'], c=df['Credit_Score'], cmap=matplotlib.colors.ListedColormap(colors))\n",
        "plt.xlabel('Annual_Income')\n",
        "plt.ylabel('Credit_Utilization_Ratio')\n",
        "plt.title('Scatter plot of Annual_Income against Credit_Utilization_Ratio')\n",
        "\n",
        "# Create a legend for each unique value in 'Credit_Score'\n",
        "legend_labels = df['Credit_Score'].unique()\n",
        "legend_handles = [plt.Line2D([0], [0], marker='o', color='w', markerfacecolor=colors[i % len(colors)], markersize=10, label=str(legend_label)) for i, legend_label in enumerate(legend_labels)]\n",
        "plt.legend(handles=legend_handles, title='Credit_Score')\n"
      ]
    },
    {
      "cell_type": "markdown",
      "metadata": {
        "id": "8d3uoh7AfQwN"
      },
      "source": [
        "### **3-D Scatterplots**\n",
        "\n",
        "Sometimes, three-dimensional scatter plots can be helpful as well."
      ]
    },
    {
      "cell_type": "code",
      "execution_count": null,
      "metadata": {
        "id": "Jti4a8TDiHgy"
      },
      "outputs": [],
      "source": [
        "import plotly.graph_objects as go\n",
        "import numpy as np\n",
        "configure_plotly_browser_state()\n",
        "\n",
        "init_notebook_mode(connected=False)# to show plots in notebook\n",
        "\n",
        "x, y, z = df['Annual_Income'], df['Total_EMI_per_month'], df['Credit_Utilization_Ratio']\n",
        "\n",
        "fig = go.Figure(data=[go.Scatter3d(x=x, y=y, z=z,\n",
        "    mode='markers', marker=dict(\n",
        "        size=4,\n",
        "        color = df['Credit_Score'].astype(int),\n",
        "        opacity=0.8\n",
        "    ),\n",
        "\n",
        "    )])\n",
        "fig.update_layout(scene = dict(\n",
        "                    xaxis_title='Annual_Income',\n",
        "                    yaxis_title='Total_EMI_per_month',\n",
        "                    zaxis_title='Total_EMI_per_month'),margin=dict(l=0, r=0, b=0, t=0))\n",
        "fig.show()\n"
      ]
    }
  ],
  "metadata": {
    "colab": {
      "provenance": []
    },
    "kernelspec": {
      "display_name": "Python 3",
      "name": "python3"
    },
    "language_info": {
      "name": "python"
    }
  },
  "nbformat": 4,
  "nbformat_minor": 0
}